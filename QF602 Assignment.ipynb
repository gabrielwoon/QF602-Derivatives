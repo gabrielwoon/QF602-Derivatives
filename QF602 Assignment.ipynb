{
 "cells": [
  {
   "cell_type": "markdown",
   "id": "e55c12cc",
   "metadata": {},
   "source": [
    "**Prepared By:** \n",
    "\n",
    "Gabriel Woon"
   ]
  },
  {
   "cell_type": "markdown",
   "id": "79a8adce",
   "metadata": {},
   "source": [
    "# QF602 Assignment"
   ]
  },
  {
   "cell_type": "code",
   "execution_count": 1,
   "id": "3d06eac8",
   "metadata": {},
   "outputs": [],
   "source": [
    "import pandas as pd\n",
    "import numpy as np\n",
    "from scipy.stats import norm\n",
    "import scipy.integrate as integrate"
   ]
  },
  {
   "cell_type": "code",
   "execution_count": 2,
   "id": "b1102e0f",
   "metadata": {},
   "outputs": [],
   "source": [
    "def BlackCall(f, k, T, vol):\n",
    "    d1 = (np.log(f/k)+(vol**2/2)*T) / (vol*np.sqrt(T))\n",
    "    d2 = d1 - vol*np.sqrt(T)\n",
    "    return (f*norm.cdf(d1) - k*norm.cdf(d2))\n",
    "\n",
    "def BlackPut(f, k, T, vol):\n",
    "    d1 = (np.log(f/k)+(vol**2/2)*T) / (vol*np.sqrt(T))\n",
    "    d2 = d1 - vol*np.sqrt(T)\n",
    "    return (k*norm.cdf(-d2) - f*norm.cdf(-d1))"
   ]
  },
  {
   "cell_type": "code",
   "execution_count": 3,
   "id": "1b6c2ad6",
   "metadata": {},
   "outputs": [],
   "source": [
    "def impliedvol(k):\n",
    "    if k <= 3:\n",
    "        iv = (0.510 - 0.591*np.power(k, 1) + 0.376*np.power(k, 2) - 0.105*np.power(k, 3) + 0.011*np.power(k, 4))\n",
    "    else:\n",
    "        iv = (0.510 - 0.591*np.power(3, 1) + 0.376*np.power(3, 2) - 0.105*np.power(3, 3) + 0.011*np.power(3, 4))\n",
    "    return iv"
   ]
  },
  {
   "cell_type": "markdown",
   "id": "d1d139dc",
   "metadata": {},
   "source": [
    "###############################################################################################################################"
   ]
  },
  {
   "cell_type": "markdown",
   "id": "2ed56918",
   "metadata": {},
   "source": [
    "# General Payoff With Varying Volatility"
   ]
  },
  {
   "cell_type": "code",
   "execution_count": 4,
   "id": "81cb6921",
   "metadata": {},
   "outputs": [],
   "source": [
    "def numerical_integration_general_varyvol(S0, r, q, T, SD, n):\n",
    "    DF = np.exp(-r*T); DivF = np.exp(-q*T)\n",
    "    f = S0 * DivF/DF  \n",
    "    forward_part = f ** n\n",
    "    \n",
    "    atmvol = impliedvol(S0)\n",
    "    maxS = f * np.exp(atmvol * SD * np.sqrt(T))\n",
    "    \n",
    "    integrand_put = lambda k: (n*(n-1)) * (k**(n-2)) * BlackPut(f, k, T, impliedvol(k)) * DF\n",
    "    put_part, error = integrate.quad(integrand_put, 0, f)\n",
    "             \n",
    "    integrand_call = lambda k: (n*(n-1)) * (k**(n-2)) * BlackCall(f, k, T, impliedvol(k)) * DF\n",
    "    call_part, error = integrate.quad(integrand_call, f, maxS)\n",
    "    \n",
    "    return DF * (forward_part + put_part + call_part)"
   ]
  },
  {
   "cell_type": "markdown",
   "id": "bcbba0bb",
   "metadata": {},
   "source": [
    "# Square Payoff With Varying Volatility"
   ]
  },
  {
   "cell_type": "code",
   "execution_count": 5,
   "id": "6fc4611e",
   "metadata": {},
   "outputs": [],
   "source": [
    "def numerical_integration_sq_varyvol(S0, r, q, T, SD):\n",
    "    DF = np.exp(-r*T); DivF = np.exp(-q*T)\n",
    "    f = S0 * DivF/DF  \n",
    "    forward_part = f ** 2\n",
    "    \n",
    "    atmvol = impliedvol(S0)\n",
    "    maxS = f * np.exp(atmvol * SD * np.sqrt(T))\n",
    "          \n",
    "    integrand_put = lambda k: 2 * k**0 * BlackPut(f, k, T, impliedvol(k)) * DF\n",
    "    put_part, error = integrate.quad(integrand_put, 0, f)\n",
    "    \n",
    "    integrand_call = lambda k: 2 * k**0 * BlackCall(f, k, T, impliedvol(k)) * DF\n",
    "    call_part, error = integrate.quad(integrand_call, f, maxS)\n",
    "    \n",
    "    return DF * (forward_part + put_part + call_part)"
   ]
  },
  {
   "cell_type": "code",
   "execution_count": 6,
   "id": "f980c675",
   "metadata": {},
   "outputs": [],
   "source": [
    "S0 = 1\n",
    "q = 0\n",
    "r = 0\n",
    "T = 4\n",
    "n = 2\n",
    "kappas = np.linspace(1, 10, 10)"
   ]
  },
  {
   "cell_type": "code",
   "execution_count": 7,
   "id": "1d5aa13d",
   "metadata": {},
   "outputs": [
    {
     "data": {
      "text/plain": [
       "[1.1571881683611123,\n",
       " 1.1687697095354352,\n",
       " 1.1696883107507974,\n",
       " 1.1697233407868468,\n",
       " 1.1697236748147664,\n",
       " 1.1697236760816532,\n",
       " 1.1697236759112442,\n",
       " 1.1697236760519447,\n",
       " 1.1697236760428964,\n",
       " 1.169723676042525]"
      ]
     },
     "execution_count": 7,
     "metadata": {},
     "output_type": "execute_result"
    }
   ],
   "source": [
    "numIntResults_sq_varyvol = [numerical_integration_sq_varyvol(S0, r, q, T, sd) for sd in kappas]\n",
    "numIntResults_sq_varyvol"
   ]
  },
  {
   "cell_type": "code",
   "execution_count": 8,
   "id": "20fb549a",
   "metadata": {},
   "outputs": [
    {
     "data": {
      "text/plain": [
       "[1.1571881683611123,\n",
       " 1.1687697095354352,\n",
       " 1.1696883107507974,\n",
       " 1.1697233407868468,\n",
       " 1.1697236748147664,\n",
       " 1.1697236760816532,\n",
       " 1.1697236759112442,\n",
       " 1.1697236760519447,\n",
       " 1.1697236760428964,\n",
       " 1.169723676042525]"
      ]
     },
     "execution_count": 8,
     "metadata": {},
     "output_type": "execute_result"
    }
   ],
   "source": [
    "numIntResults_sq_general_varyvol = [numerical_integration_general_varyvol(S0, r, q, T, sd, n) for sd in kappas]\n",
    "numIntResults_sq_general_varyvol"
   ]
  },
  {
   "cell_type": "markdown",
   "id": "3f501bb7",
   "metadata": {},
   "source": [
    "# Root Payoff With Varying Volatility"
   ]
  },
  {
   "cell_type": "code",
   "execution_count": 9,
   "id": "fe767755",
   "metadata": {},
   "outputs": [],
   "source": [
    "def numerical_integration_root_varyvol(S0, r, q, T, SD):\n",
    "    DF = np.exp(-r*T); DivF = np.exp(-q*T)\n",
    "    f = S0 * DivF/DF  \n",
    "    forward_part = f ** 0.5\n",
    "    \n",
    "    atmvol = impliedvol(S0)\n",
    "    maxS = f * np.exp(atmvol * SD * np.sqrt(T))\n",
    "           \n",
    "    integrand_put = lambda k: -0.25 * k**-1.5 * BlackPut(f, k, T, impliedvol(k)) * DF\n",
    "    put_part, error = integrate.quad(integrand_put, 0, f)\n",
    "    \n",
    "    integrand_call = lambda k: -0.25 * k**-1.5 * BlackCall(f, k, T, impliedvol(k)) * DF\n",
    "    call_part, error = integrate.quad(integrand_call, f, maxS)\n",
    "    \n",
    "    return DF * (forward_part + put_part + call_part)"
   ]
  },
  {
   "cell_type": "code",
   "execution_count": 10,
   "id": "8dfd4ff9",
   "metadata": {},
   "outputs": [],
   "source": [
    "S0 = 1\n",
    "q = 0\n",
    "r = 0\n",
    "T = 4\n",
    "n = 0.5\n",
    "kappas = np.linspace(1, 10, 10)"
   ]
  },
  {
   "cell_type": "code",
   "execution_count": 11,
   "id": "c8b3bb96",
   "metadata": {},
   "outputs": [
    {
     "data": {
      "text/plain": [
       "[0.9744529379034821,\n",
       " 0.9737922020437937,\n",
       " 0.9737631318258412,\n",
       " 0.9737624998857587,\n",
       " 0.9737624966161774,\n",
       " 0.9737624965870079,\n",
       " 0.9737624966878796,\n",
       " 0.973762497035033,\n",
       " 0.9737624965373824,\n",
       " 0.973762496886806]"
      ]
     },
     "execution_count": 11,
     "metadata": {},
     "output_type": "execute_result"
    }
   ],
   "source": [
    "numIntResults_root_varyvol = [numerical_integration_root_varyvol(S0, r, q, T, sd) for sd in kappas]; numIntResults_root_varyvol"
   ]
  },
  {
   "cell_type": "code",
   "execution_count": 12,
   "id": "f84d8d22",
   "metadata": {},
   "outputs": [
    {
     "data": {
      "text/plain": [
       "[0.9744529379034821,\n",
       " 0.9737922020437937,\n",
       " 0.9737631318258412,\n",
       " 0.9737624998857587,\n",
       " 0.9737624966161774,\n",
       " 0.9737624965870079,\n",
       " 0.9737624966878796,\n",
       " 0.973762497035033,\n",
       " 0.9737624965373824,\n",
       " 0.973762496886806]"
      ]
     },
     "execution_count": 12,
     "metadata": {},
     "output_type": "execute_result"
    }
   ],
   "source": [
    "numIntResults_root_general_varyvol = [numerical_integration_general_varyvol(S0, r, q, T, sd, n) for sd in kappas]\n",
    "numIntResults_root_general_varyvol"
   ]
  },
  {
   "cell_type": "markdown",
   "id": "8cb0e2f0",
   "metadata": {},
   "source": [
    "# Cube Payoff With Varying Volatility"
   ]
  },
  {
   "cell_type": "code",
   "execution_count": 13,
   "id": "b972ab57",
   "metadata": {},
   "outputs": [],
   "source": [
    "def numerical_integration_cube_varyvol(S0, r, q, T, SD):\n",
    "    DF = np.exp(-r*T); DivF = np.exp(-q*T)\n",
    "    f = S0 * DivF/DF  \n",
    "    forward_part = f ** 3\n",
    "    \n",
    "    atmvol = impliedvol(S0)\n",
    "    maxS = f * np.exp(atmvol * SD * np.sqrt(T))\n",
    "           \n",
    "    integrand_put = lambda k: 6 * k**1 * BlackPut(f, k, T, impliedvol(k)) * DF\n",
    "    put_part, error = integrate.quad(integrand_put, 0, f)\n",
    "    \n",
    "    integrand_call = lambda k: 6 * k**1 * BlackCall(f, k, T, impliedvol(k)) * DF\n",
    "    call_part, error = integrate.quad(integrand_call, f, maxS)\n",
    "    \n",
    "    return DF * (forward_part + put_part + call_part)"
   ]
  },
  {
   "cell_type": "code",
   "execution_count": 14,
   "id": "58bdd491",
   "metadata": {},
   "outputs": [],
   "source": [
    "S0 = 1\n",
    "q = 0\n",
    "r = 0\n",
    "T = 4\n",
    "n = 3\n",
    "kappas = np.linspace(1, 10, 10)"
   ]
  },
  {
   "cell_type": "code",
   "execution_count": 15,
   "id": "297baee6",
   "metadata": {},
   "outputs": [
    {
     "data": {
      "text/plain": [
       "[1.4563473950073735,\n",
       " 1.5157020030493702,\n",
       " 1.5226686291504845,\n",
       " 1.5230535930213192,\n",
       " 1.5230590092868612,\n",
       " 1.5230590334482683,\n",
       " 1.523059033669234,\n",
       " 1.5230590334356817,\n",
       " 1.5230590334359886,\n",
       " 1.5230590333989862]"
      ]
     },
     "execution_count": 15,
     "metadata": {},
     "output_type": "execute_result"
    }
   ],
   "source": [
    "numIntResults_cube_varyvol = [numerical_integration_cube_varyvol(S0, r, q, T, sd) for sd in kappas]; numIntResults_cube_varyvol"
   ]
  },
  {
   "cell_type": "code",
   "execution_count": 16,
   "id": "158c95ec",
   "metadata": {
    "scrolled": true
   },
   "outputs": [
    {
     "data": {
      "text/plain": [
       "[1.4563473950073735,\n",
       " 1.5157020030493702,\n",
       " 1.5226686291504845,\n",
       " 1.5230535930213192,\n",
       " 1.5230590092868612,\n",
       " 1.5230590334482683,\n",
       " 1.523059033669234,\n",
       " 1.5230590334356817,\n",
       " 1.5230590334359886,\n",
       " 1.5230590333989862]"
      ]
     },
     "execution_count": 16,
     "metadata": {},
     "output_type": "execute_result"
    }
   ],
   "source": [
    "numIntResults_cube_general_varyvol = [numerical_integration_general_varyvol(S0, r, q, T, sd, n) for sd in kappas]\n",
    "numIntResults_cube_general_varyvol"
   ]
  },
  {
   "cell_type": "markdown",
   "id": "e40cf937",
   "metadata": {},
   "source": [
    "###############################################################################################################################"
   ]
  },
  {
   "cell_type": "markdown",
   "id": "4d830bc3",
   "metadata": {},
   "source": [
    "# General Payoff With Fixed Volatility"
   ]
  },
  {
   "cell_type": "code",
   "execution_count": 17,
   "id": "c86ba02d",
   "metadata": {},
   "outputs": [],
   "source": [
    "def numerical_integration_general(S0, r, q, T, vol, SD, n):\n",
    "    DF = np.exp(-r*T); DivF = np.exp(-q*T)\n",
    "    f = S0*DivF/DF\n",
    "    forward_part = f ** n\n",
    "    \n",
    "    maxS = f * np.exp(vol * SD * np.sqrt(T))\n",
    "       \n",
    "    integrand_put = lambda k: (n*(n-1)) * (k**(n-2)) * BlackPut(f, k, T, vol) * DF\n",
    "    put_part, error = integrate.quad(integrand_put, 0, f)\n",
    "    \n",
    "    integrand_call = lambda k: (n*(n-1)) * (k**(n-2)) * BlackCall(f, k, T, vol) * DF\n",
    "    call_part, error = integrate.quad(integrand_call, f, maxS)   \n",
    "    \n",
    "    return DF * (forward_part + put_part + call_part)"
   ]
  },
  {
   "cell_type": "code",
   "execution_count": 18,
   "id": "19196484",
   "metadata": {},
   "outputs": [],
   "source": [
    "# simplied power payoff since r = 0 and q = 0\n",
    "\n",
    "def analytical_res_general(S0, T, vol, n):\n",
    "    return (S0**n)*np.exp((n*(n-1)*vol*vol*T)/2)"
   ]
  },
  {
   "cell_type": "markdown",
   "id": "32af3afd",
   "metadata": {},
   "source": [
    "# Square Payoff With Fixed Volatility"
   ]
  },
  {
   "cell_type": "code",
   "execution_count": 19,
   "id": "5b545f02",
   "metadata": {},
   "outputs": [],
   "source": [
    "def numerical_integration_sq(S0, r, q, T, vol, SD):\n",
    "    DF = np.exp(-r*T); DivF = np.exp(-q*T)\n",
    "    f = S0*DivF/DF\n",
    "    forward_part = f ** 2\n",
    "    \n",
    "    maxS = f * np.exp(vol * SD * np.sqrt(T))\n",
    "       \n",
    "    integrand_put = lambda k: 2 * k**0 * BlackPut(f, k, T, vol) * DF\n",
    "    put_part, error = integrate.quad(integrand_put, 0, f)\n",
    "    \n",
    "    integrand_call = lambda k: 2 * k**0 * BlackCall(f, k, T, vol) * DF\n",
    "    call_part, error = integrate.quad(integrand_call, f, maxS)   \n",
    "    \n",
    "    return DF * (forward_part + put_part + call_part)"
   ]
  },
  {
   "cell_type": "code",
   "execution_count": 20,
   "id": "bf480824",
   "metadata": {},
   "outputs": [],
   "source": [
    "S0 = 1\n",
    "q = 0\n",
    "r = 0\n",
    "T = 4\n",
    "vol = impliedvol(3)\n",
    "n = 2\n",
    "kappas = np.linspace(1, 10, 10)"
   ]
  },
  {
   "cell_type": "code",
   "execution_count": 21,
   "id": "dbeb666e",
   "metadata": {},
   "outputs": [
    {
     "data": {
      "text/plain": [
       "[1.1134104080334335,\n",
       " 1.1310344180299259,\n",
       " 1.1333639272901013,\n",
       " 1.1335029966449812,\n",
       " 1.133506547091863,\n",
       " 1.1335065844024592,\n",
       " 1.1335065845595316,\n",
       " 1.1335065845597916,\n",
       " 1.1335065845597916,\n",
       " 1.1335065845597918]"
      ]
     },
     "execution_count": 21,
     "metadata": {},
     "output_type": "execute_result"
    }
   ],
   "source": [
    "numIntResults_sq = [numerical_integration_sq(S0, r, q, T, vol, sd) for sd in kappas]\n",
    "numIntResults_sq"
   ]
  },
  {
   "cell_type": "code",
   "execution_count": 22,
   "id": "1358ff71",
   "metadata": {},
   "outputs": [
    {
     "data": {
      "text/plain": [
       "[1.1134104080334335,\n",
       " 1.1310344180299259,\n",
       " 1.1333639272901013,\n",
       " 1.1335029966449812,\n",
       " 1.133506547091863,\n",
       " 1.1335065844024592,\n",
       " 1.1335065845595316,\n",
       " 1.1335065845597916,\n",
       " 1.1335065845597916,\n",
       " 1.1335065845597918]"
      ]
     },
     "execution_count": 22,
     "metadata": {},
     "output_type": "execute_result"
    }
   ],
   "source": [
    "numIntResults_sq_general = [numerical_integration_general(S0, r, q, T, vol, sd, n) for sd in kappas]\n",
    "numIntResults_sq_general"
   ]
  },
  {
   "cell_type": "code",
   "execution_count": 23,
   "id": "9e7da972",
   "metadata": {
    "scrolled": true
   },
   "outputs": [
    {
     "data": {
      "text/plain": [
       "1.1335065845597911"
      ]
     },
     "execution_count": 23,
     "metadata": {},
     "output_type": "execute_result"
    }
   ],
   "source": [
    "analytical_res_sq = S0**2*np.exp(vol*vol*T)\n",
    "analytical_res_sq"
   ]
  },
  {
   "cell_type": "code",
   "execution_count": 24,
   "id": "fd253d1a",
   "metadata": {},
   "outputs": [
    {
     "data": {
      "text/plain": [
       "1.1335065845597911"
      ]
     },
     "execution_count": 24,
     "metadata": {},
     "output_type": "execute_result"
    }
   ],
   "source": [
    "analytical_res_sq_general = analytical_res_general(S0, T, vol, n)\n",
    "analytical_res_sq_general"
   ]
  },
  {
   "cell_type": "markdown",
   "id": "9e08e88e",
   "metadata": {},
   "source": [
    "# Root Payoff With Fixed Volatility"
   ]
  },
  {
   "cell_type": "code",
   "execution_count": 25,
   "id": "04dd4fbe",
   "metadata": {},
   "outputs": [],
   "source": [
    "def numerical_integration_root(S0, r, q, T, vol, SD):\n",
    "    DF = np.exp(-r*T); DivF = np.exp(-q*T)\n",
    "    f = S0*DivF/DF\n",
    "    forward_part = f ** 0.5\n",
    "    \n",
    "    maxS = f * np.exp(vol * SD * np.sqrt(T))\n",
    "       \n",
    "    integrand_put = lambda k: -0.25 * k**-1.5 * BlackPut(f, k, T, vol) * DF\n",
    "    put_part, error = integrate.quad(integrand_put, 0, f)\n",
    "    \n",
    "    integrand_call = lambda k: -0.25 * k**-1.5 * BlackCall(f, k, T, vol) * DF\n",
    "    call_part, error = integrate.quad(integrand_call, f, maxS)   \n",
    "    \n",
    "    return DF * (forward_part + put_part + call_part)"
   ]
  },
  {
   "cell_type": "code",
   "execution_count": 26,
   "id": "5948ce46",
   "metadata": {},
   "outputs": [],
   "source": [
    "S0 = 1\n",
    "q = 0\n",
    "r = 0\n",
    "T = 4\n",
    "vol = impliedvol(3)\n",
    "n = 0.5\n",
    "kappas = np.linspace(1, 10, 10)"
   ]
  },
  {
   "cell_type": "code",
   "execution_count": 27,
   "id": "cb377086",
   "metadata": {},
   "outputs": [
    {
     "data": {
      "text/plain": [
       "[0.9856248105273393,\n",
       " 0.984546768903976,\n",
       " 0.9844606933237563,\n",
       " 0.9844575978809281,\n",
       " 0.9844575504627436,\n",
       " 0.9844575501649154,\n",
       " 0.9844575501641688,\n",
       " 0.984457550164168,\n",
       " 0.984457550164168,\n",
       " 0.984457550164168]"
      ]
     },
     "execution_count": 27,
     "metadata": {},
     "output_type": "execute_result"
    }
   ],
   "source": [
    "numIntResults_root = [numerical_integration_root(S0, r, q, T, vol, sd) for sd in kappas]\n",
    "numIntResults_root"
   ]
  },
  {
   "cell_type": "code",
   "execution_count": 28,
   "id": "dd0bc066",
   "metadata": {},
   "outputs": [
    {
     "data": {
      "text/plain": [
       "[0.9856248105273393,\n",
       " 0.984546768903976,\n",
       " 0.9844606933237563,\n",
       " 0.9844575978809281,\n",
       " 0.9844575504627436,\n",
       " 0.9844575501649154,\n",
       " 0.9844575501641688,\n",
       " 0.984457550164168,\n",
       " 0.984457550164168,\n",
       " 0.984457550164168]"
      ]
     },
     "execution_count": 28,
     "metadata": {},
     "output_type": "execute_result"
    }
   ],
   "source": [
    "numIntResults_root_general = [numerical_integration_general(S0, r, q, T, vol, sd, n) for sd in kappas]\n",
    "numIntResults_root_general"
   ]
  },
  {
   "cell_type": "code",
   "execution_count": 29,
   "id": "2ac91f79",
   "metadata": {},
   "outputs": [
    {
     "data": {
      "text/plain": [
       "0.9844575501641669"
      ]
     },
     "execution_count": 29,
     "metadata": {},
     "output_type": "execute_result"
    }
   ],
   "source": [
    "analytical_res_root = S0**0.5*np.exp(-1/8*vol*vol*T)\n",
    "analytical_res_root"
   ]
  },
  {
   "cell_type": "code",
   "execution_count": 30,
   "id": "38f0c55e",
   "metadata": {},
   "outputs": [
    {
     "data": {
      "text/plain": [
       "0.9844575501641669"
      ]
     },
     "execution_count": 30,
     "metadata": {},
     "output_type": "execute_result"
    }
   ],
   "source": [
    "analytical_res_root_general = analytical_res_general(S0, T, vol, n)\n",
    "analytical_res_root_general"
   ]
  },
  {
   "cell_type": "markdown",
   "id": "97f560b1",
   "metadata": {},
   "source": [
    "# Cube Payoff With Fixed Volatility"
   ]
  },
  {
   "cell_type": "code",
   "execution_count": 31,
   "id": "2f437c7c",
   "metadata": {},
   "outputs": [],
   "source": [
    "def numerical_integration_cube(S0, r, q, T, vol, SD):\n",
    "    DF = np.exp(-r*T); DivF = np.exp(-q*T)\n",
    "    f = S0*DivF/DF\n",
    "    forward_part = f ** 3\n",
    "    \n",
    "    maxS = f * np.exp(vol * SD * np.sqrt(T))\n",
    "       \n",
    "    integrand_put = lambda k: 6 * k**1 * BlackPut(f, k, T, vol) * DF\n",
    "    put_part, error = integrate.quad(integrand_put, 0, f)\n",
    "    \n",
    "    integrand_call = lambda k: 6 * k**1 * BlackCall(f, k, T, vol) * DF\n",
    "    call_part, error = integrate.quad(integrand_call, f, maxS)   \n",
    "    \n",
    "    return DF * (forward_part + put_part + call_part)"
   ]
  },
  {
   "cell_type": "code",
   "execution_count": 32,
   "id": "d830c04a",
   "metadata": {},
   "outputs": [],
   "source": [
    "S0 = 1\n",
    "q = 0\n",
    "r = 0\n",
    "T = 4\n",
    "vol = impliedvol(3)\n",
    "n = 3\n",
    "kappas = np.linspace(1, 10, 10)"
   ]
  },
  {
   "cell_type": "code",
   "execution_count": 33,
   "id": "c68ea3cc",
   "metadata": {},
   "outputs": [
    {
     "data": {
      "text/plain": [
       "[1.3530175870512846,\n",
       " 1.4390969982104955,\n",
       " 1.4549947393706568,\n",
       " 1.4563230972714454,\n",
       " 1.45637069233548,\n",
       " 1.4563713962977225,\n",
       " 1.4563714004794244,\n",
       " 1.4563714004892094,\n",
       " 1.456371400489213,\n",
       " 1.4563714004892254]"
      ]
     },
     "execution_count": 33,
     "metadata": {},
     "output_type": "execute_result"
    }
   ],
   "source": [
    "numIntResults_cube = [numerical_integration_cube(S0, r, q, T, vol, sd) for sd in kappas]\n",
    "numIntResults_cube"
   ]
  },
  {
   "cell_type": "code",
   "execution_count": 34,
   "id": "6b93fada",
   "metadata": {},
   "outputs": [
    {
     "data": {
      "text/plain": [
       "[1.3530175870512846,\n",
       " 1.4390969982104955,\n",
       " 1.4549947393706568,\n",
       " 1.4563230972714454,\n",
       " 1.45637069233548,\n",
       " 1.4563713962977225,\n",
       " 1.4563714004794244,\n",
       " 1.4563714004892094,\n",
       " 1.456371400489213,\n",
       " 1.4563714004892254]"
      ]
     },
     "execution_count": 34,
     "metadata": {},
     "output_type": "execute_result"
    }
   ],
   "source": [
    "numIntResults_cube_general = [numerical_integration_general(S0, r, q, T, vol, sd, n) for sd in kappas]\n",
    "numIntResults_cube_general"
   ]
  },
  {
   "cell_type": "code",
   "execution_count": 35,
   "id": "58840792",
   "metadata": {},
   "outputs": [
    {
     "data": {
      "text/plain": [
       "1.4563714004892119"
      ]
     },
     "execution_count": 35,
     "metadata": {},
     "output_type": "execute_result"
    }
   ],
   "source": [
    "analytical_res_cube = S0**3*np.exp(3*vol*vol*T)\n",
    "analytical_res_cube"
   ]
  },
  {
   "cell_type": "code",
   "execution_count": 36,
   "id": "2eff0fab",
   "metadata": {},
   "outputs": [
    {
     "data": {
      "text/plain": [
       "1.4563714004892119"
      ]
     },
     "execution_count": 36,
     "metadata": {},
     "output_type": "execute_result"
    }
   ],
   "source": [
    "analytical_res_cube_general = analytical_res_general(S0, T, vol, n)\n",
    "analytical_res_cube_general"
   ]
  }
 ],
 "metadata": {
  "kernelspec": {
   "display_name": "Python 3 (ipykernel)",
   "language": "python",
   "name": "python3"
  },
  "language_info": {
   "codemirror_mode": {
    "name": "ipython",
    "version": 3
   },
   "file_extension": ".py",
   "mimetype": "text/x-python",
   "name": "python",
   "nbconvert_exporter": "python",
   "pygments_lexer": "ipython3",
   "version": "3.9.7"
  }
 },
 "nbformat": 4,
 "nbformat_minor": 5
}
